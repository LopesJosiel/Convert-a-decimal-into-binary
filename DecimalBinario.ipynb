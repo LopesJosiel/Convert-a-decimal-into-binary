{
 "cells": [
  {
   "cell_type": "code",
   "execution_count": null,
   "metadata": {},
   "outputs": [],
   "source": [
    "#Vamos começar\n",
    "#Declarando a variável que vai receber o imput\n",
    "a = input('escolha um decimal para transformar em binário')\n",
    "\n",
    "#transformando esse string para número\n",
    "b = []\n",
    "a = float (dec)\n",
    "while a%2 !=1:\n",
    "    c = b.append[]\n",
    "    break\n",
    "if \n",
    "\n"
   ]
  }
 ],
 "metadata": {
  "kernelspec": {
   "display_name": "base",
   "language": "python",
   "name": "python3"
  },
  "language_info": {
   "codemirror_mode": {
    "name": "ipython",
    "version": 3
   },
   "file_extension": ".py",
   "mimetype": "text/x-python",
   "name": "python",
   "nbconvert_exporter": "python",
   "pygments_lexer": "ipython3",
   "version": "3.9.13"
  },
  "orig_nbformat": 4
 },
 "nbformat": 4,
 "nbformat_minor": 2
}
